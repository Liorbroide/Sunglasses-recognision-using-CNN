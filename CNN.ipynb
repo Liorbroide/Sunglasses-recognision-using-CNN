{
  "nbformat": 4,
  "nbformat_minor": 0,
  "metadata": {
    "colab": {
      "provenance": []
    },
    "kernelspec": {
      "name": "python3",
      "display_name": "Python 3"
    },
    "language_info": {
      "name": "python"
    }
  },
  "cells": [
    {
      "cell_type": "code",
      "execution_count": 1,
      "metadata": {
        "id": "eWT94D8Uqvrl"
      },
      "outputs": [],
      "source": [
        "import numpy as np\n",
        "import os\n",
        "import tensorflow as tf\n",
        "import pandas as pd\n",
        "import cv2\n",
        "IMG_WIDTH=32\n",
        "IMG_HEIGHT=30\n",
        "IMG_FOLDER=r'Data/' \n",
        "def create_dataset(img_folder):\n",
        "  img_data_array=[]\n",
        "  class_name=[]\n",
        "  for dir1 in os.listdir(img_folder):\n",
        "    for file in os.listdir(os.path.join(img_folder, dir1)):\n",
        "      image_path = os.path.join(img_folder, dir1, file)\n",
        "      image = cv2.imread( image_path, cv2.COLOR_BGR2RGB)\n",
        "      image = cv2.resize(image, (IMG_HEIGHT, IMG_WIDTH),\n",
        "      interpolation = cv2.INTER_AREA)\n",
        "      image = np.array(image)\n",
        "      image = image.astype('float32')\n",
        "      image /= 255\n",
        "      img_data_array.append(image)\n",
        "      class_name.append(dir1)\n",
        "  return img_data_array, class_name\n",
        "  \n",
        "# Extract the image array and class name\n",
        "img_data, class_name = create_dataset(IMG_FOLDER)\n",
        "target_dict={k: v for v, k in enumerate(np.unique(class_name))}\n",
        "# Convert the class_names to their respective numeric value based on the dictionary\n",
        "target_val = [target_dict[class_name[i]] for i in range(len(class_name))]\n",
        "# Convert to X - a 3d array (samples, width, height) and y - 0/1\n",
        "X = tf.cast(np.array(img_data), tf.float64)\n",
        "y = tf.cast(list(map(int,target_val)),tf.int32)"
      ]
    },
    {
      "cell_type": "code",
      "source": [
        "X = np.array(X)\n",
        "y = np.array(y)"
      ],
      "metadata": {
        "id": "cYG6xyPzwn79"
      },
      "execution_count": 2,
      "outputs": []
    },
    {
      "cell_type": "code",
      "source": [
        "from sklearn.model_selection import train_test_split\n",
        "\n",
        "X_train, X_test, y_train, y_test = train_test_split(X, y, test_size=0.2)\n",
        "y_train = np.array(y_train)\n",
        "y_test = np.array(y_test)\n",
        "from keras.models import Sequential\n",
        "from keras.layers import Conv2D, MaxPooling2D, Flatten, Dense, Dropout\n",
        "\n",
        "model = Sequential()\n",
        "model.add(Conv2D(filters=32, kernel_size=(3,3), activation='relu', input_shape=(32,30,1)))\n",
        "model.add(MaxPooling2D(pool_size=(2,2)))\n",
        "model.add(Conv2D(filters=64, kernel_size=(3,3), activation='relu'))\n",
        "model.add(MaxPooling2D(pool_size=(2,2)))\n",
        "model.add(Conv2D(filters=32, kernel_size=(2,2), activation='relu'))\n",
        "model.add(MaxPooling2D(pool_size=(2,2)))\n",
        "model.add(Flatten())\n",
        "model.add(Dense(units=128, activation='relu'))\n",
        "model.add(Dropout(0.5))\n",
        "model.add(Dense(units=1, activation='sigmoid'))\n",
        "model.compile(loss='binary_crossentropy', optimizer='adam', metrics=['accuracy'])\n",
        "\n",
        "# Train the model\n",
        "history = model.fit(X_train, y_train, batch_size=32, epochs=12, validation_data=(X_test, y_test))\n",
        "model.save('classification_model.h5')\n"
      ],
      "metadata": {
        "colab": {
          "base_uri": "https://localhost:8080/"
        },
        "id": "DzsULu1EseZs",
        "outputId": "1f6c3cd3-3df1-4cf8-e49c-e450f7dd7f59"
      },
      "execution_count": 3,
      "outputs": [
        {
          "output_type": "stream",
          "name": "stdout",
          "text": [
            "Epoch 1/12\n",
            "16/16 [==============================] - 3s 104ms/step - loss: 0.6932 - accuracy: 0.4970 - val_loss: 0.6896 - val_accuracy: 0.4800\n",
            "Epoch 2/12\n",
            "16/16 [==============================] - 1s 82ms/step - loss: 0.6834 - accuracy: 0.6012 - val_loss: 0.6754 - val_accuracy: 0.4800\n",
            "Epoch 3/12\n",
            "16/16 [==============================] - 1s 62ms/step - loss: 0.6529 - accuracy: 0.6273 - val_loss: 0.6180 - val_accuracy: 0.8000\n",
            "Epoch 4/12\n",
            "16/16 [==============================] - 1s 41ms/step - loss: 0.5688 - accuracy: 0.7535 - val_loss: 0.5040 - val_accuracy: 0.7600\n",
            "Epoch 5/12\n",
            "16/16 [==============================] - 1s 40ms/step - loss: 0.4568 - accuracy: 0.8056 - val_loss: 0.3903 - val_accuracy: 0.8240\n",
            "Epoch 6/12\n",
            "16/16 [==============================] - 1s 40ms/step - loss: 0.4246 - accuracy: 0.8136 - val_loss: 0.3666 - val_accuracy: 0.8160\n",
            "Epoch 7/12\n",
            "16/16 [==============================] - 1s 40ms/step - loss: 0.3558 - accuracy: 0.8617 - val_loss: 0.3942 - val_accuracy: 0.7680\n",
            "Epoch 8/12\n",
            "16/16 [==============================] - 1s 41ms/step - loss: 0.3219 - accuracy: 0.8477 - val_loss: 0.3664 - val_accuracy: 0.8720\n",
            "Epoch 9/12\n",
            "16/16 [==============================] - 1s 42ms/step - loss: 0.3684 - accuracy: 0.8116 - val_loss: 0.3856 - val_accuracy: 0.8400\n",
            "Epoch 10/12\n",
            "16/16 [==============================] - 1s 40ms/step - loss: 0.3040 - accuracy: 0.8818 - val_loss: 0.2819 - val_accuracy: 0.9040\n",
            "Epoch 11/12\n",
            "16/16 [==============================] - 1s 40ms/step - loss: 0.2393 - accuracy: 0.9198 - val_loss: 0.2489 - val_accuracy: 0.9040\n",
            "Epoch 12/12\n",
            "16/16 [==============================] - 1s 40ms/step - loss: 0.1882 - accuracy: 0.9419 - val_loss: 0.2337 - val_accuracy: 0.9040\n"
          ]
        }
      ]
    },
    {
      "cell_type": "markdown",
      "source": [
        "### loss and accuracy of our intial model\n"
      ],
      "metadata": {
        "id": "H9eJvvrKSwwh"
      }
    },
    {
      "cell_type": "code",
      "source": [
        "\n",
        "loss, accuracy = model.evaluate(X_test, y_test)\n",
        "print('Test loss:', loss)\n",
        "print('Test accuracy:', accuracy)\n"
      ],
      "metadata": {
        "colab": {
          "base_uri": "https://localhost:8080/"
        },
        "id": "aW0DT2idFj8E",
        "outputId": "2e6fed35-bf65-4205-fb7d-731443cfd3f1"
      },
      "execution_count": 4,
      "outputs": [
        {
          "output_type": "stream",
          "name": "stdout",
          "text": [
            "4/4 [==============================] - 0s 11ms/step - loss: 0.2337 - accuracy: 0.9040\n",
            "Test loss: 0.23370635509490967\n",
            "Test accuracy: 0.9039999842643738\n"
          ]
        }
      ]
    },
    {
      "cell_type": "markdown",
      "source": [
        "### finiding the optimal hyperparameters(batch size and epochs) by using grid search"
      ],
      "metadata": {
        "id": "O53egx_DS8Rf"
      }
    },
    {
      "cell_type": "code",
      "source": [
        "from sklearn.model_selection import GridSearchCV\n",
        "from keras.wrappers.scikit_learn import KerasClassifier\n",
        "def display_cv_results(search_results):\n",
        "    print('Best score = {:.4f} using {}'.format(search_results.best_score_, search_results.best_params_))\n",
        "\n",
        "from keras.wrappers.scikit_learn import KerasClassifier\n",
        "def create_mlp_model():\n",
        "  model = Sequential()\n",
        "  model.add(Conv2D(filters=32, kernel_size=(3,3), activation='relu', input_shape=(32,30,1)))\n",
        "  model.add(MaxPooling2D(pool_size=(2,2)))\n",
        "  model.add(Conv2D(filters=64, kernel_size=(3,3), activation='relu'))\n",
        "  model.add(MaxPooling2D(pool_size=(2,2)))\n",
        "  model.add(Conv2D(filters=32, kernel_size=(2,2), activation='relu'))\n",
        "  model.add(MaxPooling2D(pool_size=(2,2)))\n",
        "  model.add(Flatten())\n",
        "  model.add(Dense(units=128, activation='relu'))\n",
        "  model.add(Dropout(0.5))\n",
        "  model.add(Dense(units=1, activation='sigmoid'))\n",
        "  model.compile(loss='binary_crossentropy', optimizer='adam', metrics=['accuracy'])\n",
        "  return model\n",
        "param_grid = {'epochs':[10,20,30],'batch_size': [16, 32, 64]}\n",
        "model1 = KerasClassifier(build_fn=create_mlp_model, verbose=1)\n",
        "\n",
        "grid = GridSearchCV(estimator=model1, param_grid=param_grid, n_jobs=-1,scoring=\"accuracy\",cv=2 )\n",
        "grid_result = grid.fit(X_train, y_train)  \n",
        "display_cv_results(grid_result)\n"
      ],
      "metadata": {
        "colab": {
          "base_uri": "https://localhost:8080/"
        },
        "id": "srOnGknU3Qki",
        "outputId": "ffade887-d272-4539-dbf2-f832b4bead04"
      },
      "execution_count": 5,
      "outputs": [
        {
          "output_type": "stream",
          "name": "stderr",
          "text": [
            "<ipython-input-5-eea3e5fe9327>:22: DeprecationWarning: KerasClassifier is deprecated, use Sci-Keras (https://github.com/adriangb/scikeras) instead. See https://www.adriangb.com/scikeras/stable/migration.html for help migrating.\n",
            "  model1 = KerasClassifier(build_fn=create_mlp_model, verbose=1)\n"
          ]
        },
        {
          "output_type": "stream",
          "name": "stdout",
          "text": [
            "Epoch 1/30\n",
            "32/32 [==============================] - 2s 40ms/step - loss: 0.6912 - accuracy: 0.5150\n",
            "Epoch 2/30\n",
            "32/32 [==============================] - 1s 47ms/step - loss: 0.6527 - accuracy: 0.6273\n",
            "Epoch 3/30\n",
            "32/32 [==============================] - 1s 41ms/step - loss: 0.5245 - accuracy: 0.7555\n",
            "Epoch 4/30\n",
            "32/32 [==============================] - 1s 23ms/step - loss: 0.3790 - accuracy: 0.8337\n",
            "Epoch 5/30\n",
            "32/32 [==============================] - 1s 21ms/step - loss: 0.3025 - accuracy: 0.8697\n",
            "Epoch 6/30\n",
            "32/32 [==============================] - 1s 21ms/step - loss: 0.2669 - accuracy: 0.8958\n",
            "Epoch 7/30\n",
            "32/32 [==============================] - 1s 21ms/step - loss: 0.2230 - accuracy: 0.9238\n",
            "Epoch 8/30\n",
            "32/32 [==============================] - 1s 21ms/step - loss: 0.2198 - accuracy: 0.9158\n",
            "Epoch 9/30\n",
            "32/32 [==============================] - 1s 21ms/step - loss: 0.1529 - accuracy: 0.9399\n",
            "Epoch 10/30\n",
            "32/32 [==============================] - 1s 21ms/step - loss: 0.1394 - accuracy: 0.9559\n",
            "Epoch 11/30\n",
            "32/32 [==============================] - 1s 22ms/step - loss: 0.1448 - accuracy: 0.9499\n",
            "Epoch 12/30\n",
            "32/32 [==============================] - 1s 21ms/step - loss: 0.1165 - accuracy: 0.9679\n",
            "Epoch 13/30\n",
            "32/32 [==============================] - 1s 20ms/step - loss: 0.0933 - accuracy: 0.9639\n",
            "Epoch 14/30\n",
            "32/32 [==============================] - 1s 21ms/step - loss: 0.0997 - accuracy: 0.9679\n",
            "Epoch 15/30\n",
            "32/32 [==============================] - 1s 21ms/step - loss: 0.0641 - accuracy: 0.9860\n",
            "Epoch 16/30\n",
            "32/32 [==============================] - 1s 21ms/step - loss: 0.0389 - accuracy: 0.9920\n",
            "Epoch 17/30\n",
            "32/32 [==============================] - 1s 21ms/step - loss: 0.0280 - accuracy: 0.9940\n",
            "Epoch 18/30\n",
            "32/32 [==============================] - 1s 21ms/step - loss: 0.0251 - accuracy: 0.9940\n",
            "Epoch 19/30\n",
            "32/32 [==============================] - 1s 21ms/step - loss: 0.0220 - accuracy: 0.9940\n",
            "Epoch 20/30\n",
            "32/32 [==============================] - 1s 22ms/step - loss: 0.0122 - accuracy: 0.9980\n",
            "Epoch 21/30\n",
            "32/32 [==============================] - 1s 21ms/step - loss: 0.0118 - accuracy: 1.0000\n",
            "Epoch 22/30\n",
            "32/32 [==============================] - 1s 21ms/step - loss: 0.0089 - accuracy: 1.0000\n",
            "Epoch 23/30\n",
            "32/32 [==============================] - 1s 21ms/step - loss: 0.0104 - accuracy: 1.0000\n",
            "Epoch 24/30\n",
            "32/32 [==============================] - 1s 21ms/step - loss: 0.0079 - accuracy: 1.0000\n",
            "Epoch 25/30\n",
            "32/32 [==============================] - 1s 21ms/step - loss: 0.0058 - accuracy: 1.0000\n",
            "Epoch 26/30\n",
            "32/32 [==============================] - 1s 21ms/step - loss: 0.0036 - accuracy: 1.0000\n",
            "Epoch 27/30\n",
            "32/32 [==============================] - 1s 21ms/step - loss: 0.0053 - accuracy: 1.0000\n",
            "Epoch 28/30\n",
            "32/32 [==============================] - 1s 30ms/step - loss: 0.0040 - accuracy: 1.0000\n",
            "Epoch 29/30\n",
            "32/32 [==============================] - 1s 37ms/step - loss: 0.0038 - accuracy: 1.0000\n",
            "Epoch 30/30\n",
            "32/32 [==============================] - 1s 37ms/step - loss: 0.0021 - accuracy: 1.0000\n",
            "Best score = 0.9579 using {'batch_size': 16, 'epochs': 30}\n"
          ]
        }
      ]
    },
    {
      "cell_type": "code",
      "source": [
        "pip install scikeras"
      ],
      "metadata": {
        "colab": {
          "base_uri": "https://localhost:8080/"
        },
        "id": "w3Pyt9vu6Dze",
        "outputId": "3cd3aedd-663e-4927-c144-ce5ea7c6d123"
      },
      "execution_count": 9,
      "outputs": [
        {
          "output_type": "stream",
          "name": "stdout",
          "text": [
            "Looking in indexes: https://pypi.org/simple, https://us-python.pkg.dev/colab-wheels/public/simple/\n",
            "Collecting scikeras\n",
            "  Downloading scikeras-0.10.0-py3-none-any.whl (27 kB)\n",
            "Requirement already satisfied: scikit-learn>=1.0.0 in /usr/local/lib/python3.8/dist-packages (from scikeras) (1.0.2)\n",
            "Requirement already satisfied: packaging>=0.21 in /usr/local/lib/python3.8/dist-packages (from scikeras) (21.3)\n",
            "Requirement already satisfied: pyparsing!=3.0.5,>=2.0.2 in /usr/local/lib/python3.8/dist-packages (from packaging>=0.21->scikeras) (3.0.9)\n",
            "Requirement already satisfied: scipy>=1.1.0 in /usr/local/lib/python3.8/dist-packages (from scikit-learn>=1.0.0->scikeras) (1.7.3)\n",
            "Requirement already satisfied: threadpoolctl>=2.0.0 in /usr/local/lib/python3.8/dist-packages (from scikit-learn>=1.0.0->scikeras) (3.1.0)\n",
            "Requirement already satisfied: numpy>=1.14.6 in /usr/local/lib/python3.8/dist-packages (from scikit-learn>=1.0.0->scikeras) (1.21.6)\n",
            "Requirement already satisfied: joblib>=0.11 in /usr/local/lib/python3.8/dist-packages (from scikit-learn>=1.0.0->scikeras) (1.2.0)\n",
            "Installing collected packages: scikeras\n",
            "Successfully installed scikeras-0.10.0\n"
          ]
        }
      ]
    },
    {
      "cell_type": "code",
      "source": [
        "from scikeras.wrappers import KerasClassifier\n",
        "def cnn_model_without_optimizer():\n",
        "  model = Sequential()\n",
        "  model.add(Conv2D(filters=32, kernel_size=(3,3), activation='relu', input_shape=(32,30,1)))\n",
        "  model.add(MaxPooling2D(pool_size=(2,2)))\n",
        "  model.add(Conv2D(filters=64, kernel_size=(3,3), activation='relu'))\n",
        "  model.add(MaxPooling2D(pool_size=(2,2)))\n",
        "  model.add(Conv2D(filters=32, kernel_size=(2,2), activation='relu'))\n",
        "  model.add(MaxPooling2D(pool_size=(2,2)))\n",
        "  model.add(Flatten())\n",
        "  model.add(Dense(units=128, activation='relu'))\n",
        "  model.add(Dropout(0.5))\n",
        "  model.add(Dense(units=1, activation='sigmoid'))\n",
        "  return model\n",
        "model_without_optimizer = KerasClassifier(model=cnn_model_without_optimizer, loss=\"binary_crossentropy\", epochs=30, batch_size=16, verbose=0)\n",
        "optimizer = ['SGD', 'RMSprop', 'Adagrad', 'Adadelta', 'Adam', 'Adamax', 'Nadam']\n",
        "param_grid = dict(optimizer=optimizer)\n",
        "grid = GridSearchCV(estimator=model_without_optimizer, param_grid=param_grid, n_jobs=-1, cv=3)\n",
        "grid_result = grid.fit(X_train,y_train)\n",
        "# summarize results\n",
        "print(\"Best: %f using %s\" % (grid_result.best_score_, grid_result.best_params_))"
      ],
      "metadata": {
        "colab": {
          "base_uri": "https://localhost:8080/"
        },
        "id": "nOIC3e8Y5EgX",
        "outputId": "bbae42ba-f0f4-4c59-da05-387aeb2f4674"
      },
      "execution_count": 11,
      "outputs": [
        {
          "output_type": "stream",
          "name": "stdout",
          "text": [
            "Best: 0.965936 using {'optimizer': 'Adam'}\n"
          ]
        }
      ]
    },
    {
      "cell_type": "markdown",
      "source": [
        "## Explaination\n",
        "First, it creates an instance of the Sequential class from keras.models, which is the basic model that a neural network can be built on.\n",
        "\n",
        "Then, it starts adding layers to the model using the model.add() method.\n",
        "\n",
        "It starts with a 2D convolutional layer Conv2D() with 32 filters, a kernel size of (3,3) and a rectified linear unit (ReLU) activation function. The input_shape parameter is set to (32,30,1) which represents the size of the input images.\n",
        "Then it adds a max pooling layer MaxPooling2D() with a pool size of (2,2) which is used to down-sample the feature maps and reduce their dimensionality.\n",
        "Next, it adds another convolutional layer Conv2D() with 64 filters, kernel size of (3,3) and a ReLU activation function.\n",
        "Then again it adds a max pooling layer MaxPooling2D() with a pool size of (2,2).\n",
        "Next, it adds another convolutional layer Conv2D() with 32 filters, kernel size of (2,2) and a ReLU activation function.\n",
        "Then, it adds another max pooling layer MaxPooling2D() with a pool size of (2,2).\n",
        "After that, it uses Flatten() layer to flatten the output from the previous layers to a 1-dimensional array.\n",
        "Then, it adds a fully connected layer Dense() with 128 units and a ReLU activation function.\n",
        "Then it adds a dropout layer Dropout() with a rate of 0.5, which is used to prevent overfitting by randomly setting a certain percentage of the neurons in a layer to zero during training.\n",
        "Then, it adds the final dense layer Dense() with 1 unit and a sigmoid activation function, which is used for binary classification.\n",
        "\n",
        "We later performed Grid Search Algorithm to find the most optimal optimizer, as well as the most optimal number of epochs, and batch size."
      ],
      "metadata": {
        "id": "YVnpybge4mMz"
      }
    },
    {
      "cell_type": "markdown",
      "source": [
        "## Model Evaluation"
      ],
      "metadata": {
        "id": "MotUD57W69X-"
      }
    },
    {
      "cell_type": "code",
      "source": [
        "from sklearn.metrics import accuracy_score \n",
        "model = grid_result\n",
        "model.fit(X_train,y_train)\n",
        "pred = model.predict(X_test)\n",
        "accuracy = accuracy_score(pred, y_test)\n",
        "print(f\"Test accuracy:{accuracy}\")"
      ],
      "metadata": {
        "colab": {
          "base_uri": "https://localhost:8080/"
        },
        "id": "9boFLV7v7Ppr",
        "outputId": "daeff40d-2ad7-4080-a8e9-041997c6eccb"
      },
      "execution_count": 14,
      "outputs": [
        {
          "output_type": "stream",
          "name": "stdout",
          "text": [
            "Test accuracy:0.96\n"
          ]
        }
      ]
    },
    {
      "cell_type": "code",
      "source": [
        "\n",
        "# Import required libraries\n",
        "from tensorflow.keras.models import load_model\n",
        "from sklearn.model_selection import train_test_split\n",
        "from sklearn.metrics import confusion_matrix, classification_report, roc_curve, auc\n",
        "import matplotlib.pyplot as plt\n",
        "\n",
        "# Load the trained model\n",
        "model = grid_result\n",
        "\n",
        "# Make predictions on the test set\n",
        "y_pred = model.predict(X_test)\n",
        "\n",
        "# Compute the false positive rate and true positive rate\n",
        "fpr, tpr, thresholds = roc_curve(y_test, y_pred)\n",
        "\n",
        "# Compute the area under the curve\n",
        "roc_auc = auc(fpr, tpr)\n",
        "\n",
        "# Plot the ROC curve\n",
        "plt.plot(fpr, tpr, label='ROC curve (area = %0.2f)' % roc_auc)\n",
        "plt.plot([0, 1], [0, 1], 'k--')\n",
        "plt.xlim([0.0, 1.0])\n",
        "plt.ylim([0.0, 1.05])\n",
        "plt.xlabel('False Positive Rate')\n",
        "plt.ylabel('True Positive Rate')\n",
        "plt.title('Receiver Operating Characteristic (ROC)')\n",
        "plt.legend(loc=\"lower right\")\n",
        "plt.show()\n",
        "\n",
        "\n"
      ],
      "metadata": {
        "colab": {
          "base_uri": "https://localhost:8080/",
          "height": 295
        },
        "id": "8IA_QwRL1BVd",
        "outputId": "7659934d-25e8-472e-af8e-d057726feea2"
      },
      "execution_count": 15,
      "outputs": [
        {
          "output_type": "display_data",
          "data": {
            "text/plain": [
              "<Figure size 432x288 with 1 Axes>"
            ],
            "image/png": "[encoded data removed]"
          },
          "metadata": {
            "needs_background": "light"
          }
        }
      ]
    },
    {
      "cell_type": "markdown",
      "source": [
        "### ROC curve(above): you can see from this graph the True Positive Rate is getting to 1 very quickly\n",
        "\n"
      ],
      "metadata": {
        "id": "2uOA4vxITNGw"
      }
    },
    {
      "cell_type": "code",
      "source": [
        "# Plot the training curve\n",
        "plt.plot(history.history['accuracy'], label='accuracy')\n",
        "plt.plot(history.history['val_accuracy'], label = 'val_accuracy')\n",
        "plt.xlabel('Epoch')\n",
        "plt.ylabel('Accuracy')\n",
        "plt.ylim([0.5, 1])\n",
        "plt.legend(loc='lower right')\n",
        "plt.show()\n"
      ],
      "metadata": {
        "id": "RiDyhwcLKvVS",
        "colab": {
          "base_uri": "https://localhost:8080/",
          "height": 283
        },
        "outputId": "93f52626-4cc5-4b0c-fe09-d7c50f99f272"
      },
      "execution_count": 16,
      "outputs": [
        {
          "output_type": "display_data",
          "data": {
            "text/plain": [
              "<Figure size 432x288 with 1 Axes>"
            ],
            "image/png": "[encoded data removed]"
          },
          "metadata": {
            "needs_background": "light"
          }
        }
      ]
    },
    {
      "cell_type": "markdown",
      "source": [
        "### Learning curve graph(above) - As you can see from the graph when the number of epchos is getting bigger the accuracy is getting higher."
      ],
      "metadata": {
        "id": "VA9p8LF4Ikma"
      }
    },
    {
      "cell_type": "markdown",
      "source": [
        "## MODEL OVERFITTING VALIDATION\n",
        "As seen above, the training set accuracy is not significally better than the validation set, meaning that according to this method, my model does not overfit. Also, I applied dropout to the model, in order to minimize the risk of overfitting as well. As for model performance, it is visible in the ROC plot, that the Area Under the Curve is relatively large, reaching almost 1."
      ],
      "metadata": {
        "id": "ac8BzqkK3PIb"
      }
    },
    {
      "cell_type": "markdown",
      "source": [
        "## EFECT OF BATCH SIZE  ON MODEL'S LOSS AND ACCURACY\n",
        "\n",
        "The batch size is the number of samples that are processed by the model before the model's internal parameters are updated. In other words, the batch size determines how many samples the model sees before it makes an update to its weights.\n",
        "\n",
        "The batch size can have a significant effect on the model's ability to generalize, as well as the time it takes to train the model. Using a larger batch size can reduce the variance in the model's performance, but can also make the model converge more slowly. Using a smaller batch size can lead to faster training, but can also increase the variance in the model's performance.\n",
        "\n",
        "\n",
        "As seen below, I updated the batch size to 10, and it improved the accuracy quite significantly. By an estimation of 0.04"
      ],
      "metadata": {
        "id": "Ua1MBerl5Hki"
      }
    },
    {
      "cell_type": "code",
      "source": [
        "model1 = Sequential()\n",
        "model1.add(Conv2D(filters=32, kernel_size=(3,3), activation='relu', input_shape=(32,30,1)))\n",
        "model1.add(MaxPooling2D(pool_size=(2,2)))\n",
        "model1.add(Conv2D(filters=64, kernel_size=(3,3), activation='relu'))\n",
        "model1.add(MaxPooling2D(pool_size=(2,2)))\n",
        "model1.add(Conv2D(filters=32, kernel_size=(2,2), activation='relu'))\n",
        "model1.add(MaxPooling2D(pool_size=(2,2)))\n",
        "model1.add(Flatten())\n",
        "model1.add(Dense(units=128, activation='relu'))\n",
        "model1.add(Dropout(0.5))\n",
        "model1.add(Dense(units=1, activation='sigmoid'))\n",
        "model1.compile(loss='binary_crossentropy', optimizer='adam', metrics=['accuracy'])\n",
        "\n",
        "# Train the model\n",
        "#history = model.fit(X_train, y_train, batch_size=10, epochs=30, validation_data=(X_test, y_test))\n",
        "\n",
        "\n",
        "\n",
        "history1=model1.fit(X_train, y_train, batch_size=12, epochs=30, validation_data=(X_test, y_test))\n",
        "loss, accuracy = model1.evaluate(X_test, y_test)\n",
        "\n",
        "print('Test loss:', loss)\n",
        "print('Test accuracy:', accuracy)\n"
      ],
      "metadata": {
        "colab": {
          "base_uri": "https://localhost:8080/"
        },
        "id": "B5kuGRn35JlP",
        "outputId": "252847e9-57e3-477a-8ebf-b1ff48c4a5ca"
      },
      "execution_count": 45,
      "outputs": [
        {
          "output_type": "stream",
          "name": "stdout",
          "text": [
            "Epoch 1/30\n",
            "42/42 [==============================] - 2s 24ms/step - loss: 0.6918 - accuracy: 0.5070 - val_loss: 0.6824 - val_accuracy: 0.4880\n",
            "Epoch 2/30\n",
            "42/42 [==============================] - 1s 19ms/step - loss: 0.6350 - accuracy: 0.6573 - val_loss: 0.5563 - val_accuracy: 0.6240\n",
            "Epoch 3/30\n",
            "42/42 [==============================] - 1s 19ms/step - loss: 0.4562 - accuracy: 0.7956 - val_loss: 0.3598 - val_accuracy: 0.8480\n",
            "Epoch 4/30\n",
            "42/42 [==============================] - 1s 20ms/step - loss: 0.3515 - accuracy: 0.8317 - val_loss: 0.2871 - val_accuracy: 0.8640\n",
            "Epoch 5/30\n",
            "42/42 [==============================] - 1s 19ms/step - loss: 0.2417 - accuracy: 0.8918 - val_loss: 0.2570 - val_accuracy: 0.8960\n",
            "Epoch 6/30\n",
            "42/42 [==============================] - 1s 19ms/step - loss: 0.2237 - accuracy: 0.9098 - val_loss: 0.2439 - val_accuracy: 0.8720\n",
            "Epoch 7/30\n",
            "42/42 [==============================] - 1s 19ms/step - loss: 0.2006 - accuracy: 0.9178 - val_loss: 0.1732 - val_accuracy: 0.9280\n",
            "Epoch 8/30\n",
            "42/42 [==============================] - 1s 19ms/step - loss: 0.1526 - accuracy: 0.9439 - val_loss: 0.1573 - val_accuracy: 0.9440\n",
            "Epoch 9/30\n",
            "42/42 [==============================] - 1s 19ms/step - loss: 0.1094 - accuracy: 0.9639 - val_loss: 0.1514 - val_accuracy: 0.9360\n",
            "Epoch 10/30\n",
            "42/42 [==============================] - 1s 19ms/step - loss: 0.1152 - accuracy: 0.9559 - val_loss: 0.1144 - val_accuracy: 0.9680\n",
            "Epoch 11/30\n",
            "42/42 [==============================] - 1s 20ms/step - loss: 0.1301 - accuracy: 0.9579 - val_loss: 0.1434 - val_accuracy: 0.9520\n",
            "Epoch 12/30\n",
            "42/42 [==============================] - 1s 20ms/step - loss: 0.0696 - accuracy: 0.9760 - val_loss: 0.1350 - val_accuracy: 0.9520\n",
            "Epoch 13/30\n",
            "42/42 [==============================] - 1s 20ms/step - loss: 0.0791 - accuracy: 0.9739 - val_loss: 0.1169 - val_accuracy: 0.9760\n",
            "Epoch 14/30\n",
            "42/42 [==============================] - 1s 20ms/step - loss: 0.0425 - accuracy: 0.9900 - val_loss: 0.1160 - val_accuracy: 0.9600\n",
            "Epoch 15/30\n",
            "42/42 [==============================] - 1s 19ms/step - loss: 0.0361 - accuracy: 0.9880 - val_loss: 0.1183 - val_accuracy: 0.9520\n",
            "Epoch 16/30\n",
            "42/42 [==============================] - 1s 19ms/step - loss: 0.0614 - accuracy: 0.9739 - val_loss: 0.1555 - val_accuracy: 0.9360\n",
            "Epoch 17/30\n",
            "42/42 [==============================] - 1s 35ms/step - loss: 0.0431 - accuracy: 0.9900 - val_loss: 0.1225 - val_accuracy: 0.9520\n",
            "Epoch 18/30\n",
            "42/42 [==============================] - 2s 46ms/step - loss: 0.0186 - accuracy: 0.9980 - val_loss: 0.1178 - val_accuracy: 0.9760\n",
            "Epoch 19/30\n",
            "42/42 [==============================] - 1s 35ms/step - loss: 0.0190 - accuracy: 0.9960 - val_loss: 0.1389 - val_accuracy: 0.9520\n",
            "Epoch 20/30\n",
            "42/42 [==============================] - 1s 19ms/step - loss: 0.0154 - accuracy: 0.9980 - val_loss: 0.1283 - val_accuracy: 0.9680\n",
            "Epoch 21/30\n",
            "42/42 [==============================] - 1s 19ms/step - loss: 0.0122 - accuracy: 0.9960 - val_loss: 0.0982 - val_accuracy: 0.9760\n",
            "Epoch 22/30\n",
            "42/42 [==============================] - 1s 20ms/step - loss: 0.0094 - accuracy: 0.9980 - val_loss: 0.1090 - val_accuracy: 0.9760\n",
            "Epoch 23/30\n",
            "42/42 [==============================] - 1s 19ms/step - loss: 0.0074 - accuracy: 0.9980 - val_loss: 0.1104 - val_accuracy: 0.9760\n",
            "Epoch 24/30\n",
            "42/42 [==============================] - 1s 19ms/step - loss: 0.0084 - accuracy: 0.9980 - val_loss: 0.1176 - val_accuracy: 0.9760\n",
            "Epoch 25/30\n",
            "42/42 [==============================] - 1s 20ms/step - loss: 0.0099 - accuracy: 0.9980 - val_loss: 0.1704 - val_accuracy: 0.9520\n",
            "Epoch 26/30\n",
            "42/42 [==============================] - 1s 19ms/step - loss: 0.0058 - accuracy: 0.9980 - val_loss: 0.1357 - val_accuracy: 0.9600\n",
            "Epoch 27/30\n",
            "42/42 [==============================] - 1s 20ms/step - loss: 0.0066 - accuracy: 0.9980 - val_loss: 0.1122 - val_accuracy: 0.9760\n",
            "Epoch 28/30\n",
            "42/42 [==============================] - 1s 19ms/step - loss: 0.0061 - accuracy: 0.9980 - val_loss: 0.1212 - val_accuracy: 0.9760\n",
            "Epoch 29/30\n",
            "42/42 [==============================] - 1s 19ms/step - loss: 0.0046 - accuracy: 1.0000 - val_loss: 0.1208 - val_accuracy: 0.9760\n",
            "Epoch 30/30\n",
            "42/42 [==============================] - 1s 19ms/step - loss: 0.0035 - accuracy: 1.0000 - val_loss: 0.1119 - val_accuracy: 0.9760\n",
            "4/4 [==============================] - 0s 27ms/step - loss: 0.1119 - accuracy: 0.9760\n",
            "Test loss: 0.11189515888690948\n",
            "Test accuracy: 0.9760000109672546\n"
          ]
        }
      ]
    },
    {
      "cell_type": "markdown",
      "source": [
        "### loss and accuracy of our model(above)"
      ],
      "metadata": {
        "id": "jWChUbRXWGly"
      }
    },
    {
      "cell_type": "code",
      "source": [
        "# Make predictions on the test set\n",
        "y_pred = model1.predict(X_test)\n",
        "\n",
        "# Compute the false positive rate and true positive rate\n",
        "fpr, tpr, thresholds = roc_curve(y_test, y_pred)\n",
        "\n",
        "# Compute the area under the curve\n",
        "roc_auc = auc(fpr, tpr)\n",
        "\n",
        "# Plot the ROC curve\n",
        "plt.plot(fpr, tpr, label='ROC curve (area = %0.2f)' % roc_auc)\n",
        "plt.plot([0, 1], [0, 1], 'k--')\n",
        "plt.xlim([0.0, 1.0])\n",
        "plt.ylim([0.0, 1.05])\n",
        "plt.xlabel('False Positive Rate')\n",
        "plt.ylabel('True Positive Rate')\n",
        "plt.title('Receiver Operating Characteristic (ROC) after resizing batch size')\n",
        "plt.legend(loc=\"lower right\")\n",
        "plt.show()\n",
        "\n"
      ],
      "metadata": {
        "colab": {
          "base_uri": "https://localhost:8080/",
          "height": 312
        },
        "id": "KS3jfMmMNxax",
        "outputId": "dc3aba0d-e5db-4efd-9a16-e1ee49132299"
      },
      "execution_count": 46,
      "outputs": [
        {
          "output_type": "stream",
          "name": "stdout",
          "text": [
            "4/4 [==============================] - 0s 11ms/step\n"
          ]
        },
        {
          "output_type": "display_data",
          "data": {
            "text/plain": [
              "<Figure size 432x288 with 1 Axes>"
            ],
            "image/png": "[encoded data removed]"
          },
          "metadata": {
            "needs_background": "light"
          }
        }
      ]
    },
    {
      "cell_type": "markdown",
      "source": [
        "### ROC graph(above): you can see from this graph the True Positive Rate starts with 1 at the begining"
      ],
      "metadata": {
        "id": "w_GNVI78I1N8"
      }
    },
    {
      "cell_type": "code",
      "source": [
        "# Plot the training curve\n",
        "plt.plot(history1.history['accuracy'], label='accuracy')\n",
        "plt.plot(history1.history['val_accuracy'], label = 'val_accuracy')\n",
        "plt.xlabel('Epoch')\n",
        "plt.ylabel('Accuracy')\n",
        "plt.ylim([0.5, 1])\n",
        "plt.title('Learning Curve - after resizing batch size')\n",
        "plt.legend(loc='lower right')\n",
        "plt.show()\n"
      ],
      "metadata": {
        "colab": {
          "base_uri": "https://localhost:8080/",
          "height": 295
        },
        "id": "ovmHj4RuIzcs",
        "outputId": "68454422-d988-4f86-b84b-49399a99f42c"
      },
      "execution_count": 47,
      "outputs": [
        {
          "output_type": "display_data",
          "data": {
            "text/plain": [
              "<Figure size 432x288 with 1 Axes>"
            ],
            "image/png": "[encoded data removed]"
          },
          "metadata": {
            "needs_background": "light"
          }
        }
      ]
    },
    {
      "cell_type": "markdown",
      "source": [
        "### Learning curve graph(above)  - the accuracy increases when the number of epochs is getting bigger. As seen, the model does have a possibility of overfitting after updating the batch size, since we use a large number of epochs, which is the tradeoff of more epochs and less batch size. Also, when decreasing the size of batch size, we reach higher accuracy after less laps (epochs)."
      ],
      "metadata": {
        "id": "lzQm2wIbJWTg"
      }
    },
    {
      "cell_type": "markdown",
      "source": [
        "## Best Optimizer\n",
        "\n",
        "We performed GridSearch Algorithm in order to find the optimizer with best results in terms of loss and accuracy. In this particular classification task, Adam optimizer arised as the better performed optimizer, results in better results."
      ],
      "metadata": {
        "id": "ZbAoxycUBMXi"
      }
    },
    {
      "cell_type": "markdown",
      "source": [],
      "metadata": {
        "collapsed": false,
        "id": "csl2dDpU3F56"
      }
    },
    {
      "cell_type": "markdown",
      "source": [],
      "metadata": {
        "collapsed": false,
        "pycharm": {
          "name": "#%% md\n"
        },
        "id": "bwb-LQOP3F56"
      }
    }
  ]
}